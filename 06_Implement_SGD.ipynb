{
  "nbformat": 4,
  "nbformat_minor": 0,
  "metadata": {
    "colab": {
      "name": "06_Implement_SGD.ipynb",
      "version": "0.3.2",
      "provenance": []
    },
    "language_info": {
      "codemirror_mode": {
        "name": "ipython",
        "version": 3
      },
      "file_extension": ".py",
      "mimetype": "text/x-python",
      "name": "python",
      "nbconvert_exporter": "python",
      "pygments_lexer": "ipython3",
      "version": "3.6.5"
    },
    "kernelspec": {
      "display_name": "Python 3",
      "language": "python",
      "name": "python3"
    }
  },
  "cells": [
    {
      "metadata": {
        "id": "O5NpTFWe5Vf1",
        "colab_type": "text"
      },
      "cell_type": "markdown",
      "source": [
        "# Boston House price prediction"
      ]
    },
    {
      "metadata": {
        "id": "FPelvrPW5VgG",
        "colab_type": "text"
      },
      "cell_type": "markdown",
      "source": [
        "<h2>1.1 Boston Dataset Description</h2>"
      ]
    },
    {
      "metadata": {
        "id": "iJncuENk--zK",
        "colab_type": "code",
        "colab": {}
      },
      "cell_type": "code",
      "source": [
        "import warnings\n",
        "warnings.filterwarnings(\"ignore\")\n",
        "from sklearn.datasets import load_boston\n",
        "from random import seed\n",
        "from random import randrange\n",
        "from csv import reader\n",
        "from math import sqrt\n",
        "from sklearn import preprocessing\n",
        "import pandas as pd\n",
        "import numpy as np\n",
        "import matplotlib.pyplot as plt\n",
        "from prettytable import PrettyTable\n",
        "from sklearn.linear_model import SGDRegressor\n",
        "from sklearn import preprocessing\n",
        "from sklearn.metrics import mean_squared_error"
      ],
      "execution_count": 0,
      "outputs": []
    },
    {
      "metadata": {
        "id": "JCQSYqzgGK2z",
        "colab_type": "code",
        "colab": {
          "base_uri": "https://localhost:8080/",
          "height": 904
        },
        "outputId": "0190899c-0e69-4ddb-e605-8cdf047a0093"
      },
      "cell_type": "code",
      "source": [
        "print(load_boston().DESCR)"
      ],
      "execution_count": 2,
      "outputs": [
        {
          "output_type": "stream",
          "text": [
            ".. _boston_dataset:\n",
            "\n",
            "Boston house prices dataset\n",
            "---------------------------\n",
            "\n",
            "**Data Set Characteristics:**  \n",
            "\n",
            "    :Number of Instances: 506 \n",
            "\n",
            "    :Number of Attributes: 13 numeric/categorical predictive. Median Value (attribute 14) is usually the target.\n",
            "\n",
            "    :Attribute Information (in order):\n",
            "        - CRIM     per capita crime rate by town\n",
            "        - ZN       proportion of residential land zoned for lots over 25,000 sq.ft.\n",
            "        - INDUS    proportion of non-retail business acres per town\n",
            "        - CHAS     Charles River dummy variable (= 1 if tract bounds river; 0 otherwise)\n",
            "        - NOX      nitric oxides concentration (parts per 10 million)\n",
            "        - RM       average number of rooms per dwelling\n",
            "        - AGE      proportion of owner-occupied units built prior to 1940\n",
            "        - DIS      weighted distances to five Boston employment centres\n",
            "        - RAD      index of accessibility to radial highways\n",
            "        - TAX      full-value property-tax rate per $10,000\n",
            "        - PTRATIO  pupil-teacher ratio by town\n",
            "        - B        1000(Bk - 0.63)^2 where Bk is the proportion of blacks by town\n",
            "        - LSTAT    % lower status of the population\n",
            "        - MEDV     Median value of owner-occupied homes in $1000's\n",
            "\n",
            "    :Missing Attribute Values: None\n",
            "\n",
            "    :Creator: Harrison, D. and Rubinfeld, D.L.\n",
            "\n",
            "This is a copy of UCI ML housing dataset.\n",
            "https://archive.ics.uci.edu/ml/machine-learning-databases/housing/\n",
            "\n",
            "\n",
            "This dataset was taken from the StatLib library which is maintained at Carnegie Mellon University.\n",
            "\n",
            "The Boston house-price data of Harrison, D. and Rubinfeld, D.L. 'Hedonic\n",
            "prices and the demand for clean air', J. Environ. Economics & Management,\n",
            "vol.5, 81-102, 1978.   Used in Belsley, Kuh & Welsch, 'Regression diagnostics\n",
            "...', Wiley, 1980.   N.B. Various transformations are used in the table on\n",
            "pages 244-261 of the latter.\n",
            "\n",
            "The Boston house-price data has been used in many machine learning papers that address regression\n",
            "problems.   \n",
            "     \n",
            ".. topic:: References\n",
            "\n",
            "   - Belsley, Kuh & Welsch, 'Regression diagnostics: Identifying Influential Data and Sources of Collinearity', Wiley, 1980. 244-261.\n",
            "   - Quinlan,R. (1993). Combining Instance-Based and Model-Based Learning. In Proceedings on the Tenth International Conference of Machine Learning, 236-243, University of Massachusetts, Amherst. Morgan Kaufmann.\n",
            "\n"
          ],
          "name": "stdout"
        }
      ]
    },
    {
      "metadata": {
        "id": "ztlbjzmYrOH9",
        "colab_type": "text"
      },
      "cell_type": "markdown",
      "source": [
        "<h2>1.2 Splitting our data into train and test</h2>"
      ]
    },
    {
      "metadata": {
        "id": "4BF-gyBj--zS",
        "colab_type": "code",
        "colab": {}
      },
      "cell_type": "code",
      "source": [
        "bos= load_boston()\n",
        "X=pd.DataFrame(bos.data, columns = bos.feature_names)\n",
        "Y=pd.DataFrame(bos.target,columns=[\"PRICE\"])\n",
        "#https://www.kaggle.com/premvardhan/stocasticgradientdescent-implementation-lr-python\n",
        "X = (X - X.mean())/X.std()"
      ],
      "execution_count": 0,
      "outputs": []
    },
    {
      "metadata": {
        "id": "DwRvHgdo--zW",
        "colab_type": "code",
        "colab": {
          "base_uri": "https://localhost:8080/",
          "height": 34
        },
        "outputId": "edbd84e1-163f-4b76-d180-bf250a851927"
      },
      "cell_type": "code",
      "source": [
        "#splitting the data into train and test\n",
        "from sklearn.model_selection import train_test_split\n",
        "x_train, x_test, y_train, y_test = train_test_split(X, Y, test_size = 0.3)\n",
        "print(x_train.shape, x_test.shape, y_train.shape, y_test.shape)\n",
        "x_train[\"PRICE\"] = y_train"
      ],
      "execution_count": 4,
      "outputs": [
        {
          "output_type": "stream",
          "text": [
            "(354, 13) (152, 13) (354, 1) (152, 1)\n"
          ],
          "name": "stdout"
        }
      ]
    },
    {
      "metadata": {
        "id": "0AorsDqJ5VgL",
        "colab_type": "text"
      },
      "cell_type": "markdown",
      "source": [
        "<h2>1.3 Stochastic Gradient Decent(SGD) for Linear Regression</h2>\n"
      ]
    },
    {
      "metadata": {
        "id": "DrbMFSPO--zd",
        "colab_type": "code",
        "colab": {}
      },
      "cell_type": "code",
      "source": [
        "#first we will randomly choose the w,b\n",
        "W= np.random.rand(13)\n",
        "w=np.asmatrix(W).T\n",
        "b = np.random.rand()"
      ],
      "execution_count": 0,
      "outputs": []
    },
    {
      "metadata": {
        "id": "tW6asX28--zg",
        "colab_type": "code",
        "colab": {}
      },
      "cell_type": "code",
      "source": [
        "#this function caliculates m*x+c\n",
        "def f(x,m,c):\n",
        "    return np.dot(x,m)+c"
      ],
      "execution_count": 0,
      "outputs": []
    },
    {
      "metadata": {
        "id": "KjbUcWP9--zk",
        "colab_type": "code",
        "colab": {}
      },
      "cell_type": "code",
      "source": [
        "#As we will not take the entire train data we will take the subset.\n",
        "#https://www.kaggle.com/premvardhan/stocasticgradientdescent-implementation-lr-python\n",
        "def batch():    \n",
        "    batch_sample = x_train.sample(155)\n",
        "    y_obs = np.asarray(batch_sample[\"PRICE\"])\n",
        "    x = np.asmatrix(batch_sample.drop(\"PRICE\", axis = 1))\n",
        "    return x,y_obs"
      ],
      "execution_count": 0,
      "outputs": []
    },
    {
      "metadata": {
        "id": "4PQWvddi--zn",
        "colab_type": "code",
        "colab": {}
      },
      "cell_type": "code",
      "source": [
        "#This is our sgd algorithm\n",
        "#https://www.youtube.com/watch?v=IxBYhjS295w\n",
        "#https://github.com/sachinruk/deepschool.io\n",
        "def sgd(iter=1000,gamma=0.001): #here gamma is r\n",
        "    loss = np.zeros((iter,1))\n",
        "    w=np.asmatrix(W).T\n",
        "    params = []\n",
        "    b = np.random.rand()\n",
        "    i=0\n",
        "    dl_dw=0;\n",
        "    dl_db=0;\n",
        "    while(i<iter):#This loop is for 1000 itereations\n",
        "        j=0;\n",
        "        x_train_r,y_obs=batch()\n",
        "        length=len(x_train_r)\n",
        "        while(j<length):#this loop iterates through every point in xi in batched  training data\n",
        "            diff=y_obs[j]-f(x_train_r[j],w,b)\n",
        "            temp1=np.dot((-2*x_train_r[j].T),diff)\n",
        "            dl_dw=dl_dw+temp1\n",
        "            temp2=y_obs[j]-f(x_train_r[j],w,b)\n",
        "            temp2=-2*diff\n",
        "            dl_db=dl_db+temp2\n",
        "            j=j+1\n",
        "        w=w-gamma*dl_dw\n",
        "        b=b-gamma*dl_db\n",
        "        loss[i]=mean_squared_error(y_test,(np.dot(np.asmatrix(x_test), w) + b))\n",
        "        params.append(w)\n",
        "        gamma=gamma/2\n",
        "        i=i+1\n",
        "    return params,b,loss"
      ],
      "execution_count": 0,
      "outputs": []
    },
    {
      "metadata": {
        "id": "EmLcSYoN--zq",
        "colab_type": "code",
        "colab": {}
      },
      "cell_type": "code",
      "source": [
        "params,b,loss=sgd()"
      ],
      "execution_count": 0,
      "outputs": []
    },
    {
      "metadata": {
        "id": "f12RlXNE--zt",
        "colab_type": "code",
        "colab": {
          "base_uri": "https://localhost:8080/",
          "height": 306
        },
        "outputId": "daaf9fb4-ffe7-4380-d98a-9a4f3fcc1393"
      },
      "cell_type": "code",
      "source": [
        "print(\"The best w is\\n\",params[-1])\n",
        "print(\"************************************\")\n",
        "print(\"The best b is\\n\",b)"
      ],
      "execution_count": 21,
      "outputs": [
        {
          "output_type": "stream",
          "text": [
            "The best w is\n",
            " [[-0.48770419]\n",
            " [ 0.23806568]\n",
            " [-0.21880318]\n",
            " [ 0.89118377]\n",
            " [-0.34196677]\n",
            " [ 2.93263604]\n",
            " [ 0.04461172]\n",
            " [-1.11735731]\n",
            " [-0.23660887]\n",
            " [-0.50260475]\n",
            " [-1.00582152]\n",
            " [ 0.90476494]\n",
            " [-3.14311614]]\n",
            "************************************\n",
            "The best b is\n",
            " [[20.92578337]]\n"
          ],
          "name": "stdout"
        }
      ]
    },
    {
      "metadata": {
        "id": "GTjoTED2--zz",
        "colab_type": "code",
        "colab": {
          "base_uri": "https://localhost:8080/",
          "height": 299
        },
        "outputId": "7dec7b42-b50f-4d1f-9e87-7a00bac4bcdb"
      },
      "cell_type": "code",
      "source": [
        "# Scatter plot of test vs predicted\n",
        "# Implemented SGD\n",
        "\n",
        "plt.scatter(y_test,[(np.dot(np.asmatrix(x_test), params[-1]) + b)])\n",
        "plt.xlabel(\"Prices: $Y_i$\")\n",
        "plt.ylabel(\"Predicted prices: $\\hat{Y}_i$\")\n",
        "plt.title(\"Prices vs Predicted prices: Implemented SGD\")\n",
        "plt.show()"
      ],
      "execution_count": 22,
      "outputs": [
        {
          "output_type": "display_data",
          "data": {
            "image/png": "[encoded data removed]",
            "text/plain": [
              "<Figure size 432x288 with 1 Axes>"
            ]
          },
          "metadata": {
            "tags": []
          }
        }
      ]
    },
    {
      "metadata": {
        "id": "xe75hD4F--z2",
        "colab_type": "code",
        "colab": {
          "base_uri": "https://localhost:8080/",
          "height": 51
        },
        "outputId": "6cd715b7-fae2-4b43-99b2-e0e1bdded606"
      },
      "cell_type": "code",
      "source": [
        "print(\"the mean squared error of Sklearn SGDRegressor is:\")\n",
        "mean_squared_error(y_test,(np.dot(np.asmatrix(x_test), params[-1]) + b))"
      ],
      "execution_count": 23,
      "outputs": [
        {
          "output_type": "stream",
          "text": [
            "the mean squared error of Sklearn SGDRegressor is:\n"
          ],
          "name": "stdout"
        },
        {
          "output_type": "execute_result",
          "data": {
            "text/plain": [
              "27.800804001749697"
            ]
          },
          "metadata": {
            "tags": []
          },
          "execution_count": 23
        }
      ]
    },
    {
      "metadata": {
        "id": "R9tx-hu8I41S",
        "colab_type": "text"
      },
      "cell_type": "markdown",
      "source": [
        "<h2>1.4 SKlearn SGDRegressor</h2>"
      ]
    },
    {
      "metadata": {
        "id": "ka263sbM--z5",
        "colab_type": "code",
        "colab": {}
      },
      "cell_type": "code",
      "source": [
        "dummy=x_train\n",
        "dummy = np.asmatrix(dummy.drop(\"PRICE\", axis = 1))"
      ],
      "execution_count": 0,
      "outputs": []
    },
    {
      "metadata": {
        "id": "h2CuUyAw--z8",
        "colab_type": "code",
        "colab": {}
      },
      "cell_type": "code",
      "source": [
        "from sklearn import linear_model\n",
        "clf = linear_model.SGDRegressor(max_iter=1000)\n",
        "clf.fit(dummy, y_train)\n",
        "y_pred = clf.predict(x_test)"
      ],
      "execution_count": 0,
      "outputs": []
    },
    {
      "metadata": {
        "id": "yFkxJyRw--z_",
        "colab_type": "code",
        "colab": {
          "base_uri": "https://localhost:8080/",
          "height": 136
        },
        "outputId": "bd993c1b-964e-47dc-de69-5acdf4f57f75"
      },
      "cell_type": "code",
      "source": [
        "#i used this code from our sample example of LinearRegression\n",
        "m=clf.coef_.T\n",
        "print(\"The best w is\\n\",m.T)\n",
        "print(\"************************************\")\n",
        "print(\"The best b is\\n\",clf.intercept_)"
      ],
      "execution_count": 26,
      "outputs": [
        {
          "output_type": "stream",
          "text": [
            "The best w is\n",
            " [-0.93414113  0.86985801  0.51996617  0.65028112 -2.40048455  2.77983085\n",
            " -0.05973291 -2.90477811  2.69006155 -2.08512739 -2.22713535  0.86824944\n",
            " -3.56068986]\n",
            "************************************\n",
            "The best b is\n",
            " [22.47814738]\n"
          ],
          "name": "stdout"
        }
      ]
    },
    {
      "metadata": {
        "id": "HmRzpL2a--0D",
        "colab_type": "code",
        "colab": {
          "base_uri": "https://localhost:8080/",
          "height": 299
        },
        "outputId": "7c89f7e1-8b37-4bda-af86-5a6cb01ae1f1"
      },
      "cell_type": "code",
      "source": [
        "plt.scatter(y_test, y_pred)\n",
        "plt.xlabel(\"Prices: $Y_i$\")\n",
        "plt.ylabel(\"Predicted prices: $\\hat{Y}_i$\")\n",
        "plt.title(\"Prices vs Predicted prices: Linear Regrassion\")\n",
        "plt.show()"
      ],
      "execution_count": 27,
      "outputs": [
        {
          "output_type": "display_data",
          "data": {
            "image/png": "[encoded data removed]",
            "text/plain": [
              "<Figure size 432x288 with 1 Axes>"
            ]
          },
          "metadata": {
            "tags": []
          }
        }
      ]
    },
    {
      "metadata": {
        "id": "iV7N5Ssm--0H",
        "colab_type": "code",
        "colab": {
          "base_uri": "https://localhost:8080/",
          "height": 51
        },
        "outputId": "5516ade9-dd5b-4365-bde6-25be4aadc924"
      },
      "cell_type": "code",
      "source": [
        "from sklearn.metrics import mean_squared_error\n",
        "print(\"the mean squared error of Sklearn SGDRegressor is:\")\n",
        "print(mean_squared_error(y_test, y_pred))\n"
      ],
      "execution_count": 28,
      "outputs": [
        {
          "output_type": "stream",
          "text": [
            "the mean squared error of Sklearn SGDRegressor is:\n",
            "22.07477638853445\n"
          ],
          "name": "stdout"
        }
      ]
    },
    {
      "metadata": {
        "id": "il3luvlmJYg0",
        "colab_type": "text"
      },
      "cell_type": "markdown",
      "source": [
        "<h2>1.5 Comparing SKLearn SGDRegressor with our SGD(implemented)</h2>"
      ]
    },
    {
      "metadata": {
        "id": "NELz-xeK--0N",
        "colab_type": "code",
        "colab": {
          "base_uri": "https://localhost:8080/",
          "height": 345
        },
        "outputId": "cba8a58a-484e-450c-cb46-beac6a855d52"
      },
      "cell_type": "code",
      "source": [
        "# Scatter plot of test vs predicted\n",
        "# sklearn SGD\n",
        "plt.figure(1)\n",
        "plt.subplot(211)\n",
        "plt.scatter(y_test, y_pred)\n",
        "plt.xlabel(\"Prices: $Y_i$\")\n",
        "plt.ylabel(\"Predicted prices: $\\hat{Y}_i$\")\n",
        "plt.title(\"Prices vs Predicted prices: Linear Regrassion\")\n",
        "plt.show()\n",
        "\n",
        "# Implemented SGD\n",
        "plt.subplot(212)\n",
        "plt.scatter(y_test, [(np.dot(np.asmatrix(x_test), params[-1]) + b)])\n",
        "plt.xlabel(\"Prices: $Y_i$\")\n",
        "plt.ylabel(\"Predicted prices: $\\hat{Y}_i$\")\n",
        "plt.title(\"Prices vs Predicted prices: Implemented SGD\")\n",
        "plt.show()"
      ],
      "execution_count": 29,
      "outputs": [
        {
          "output_type": "display_data",
          "data": {
            "image/png": "[encoded data removed]",
            "text/plain": [
              "<Figure size 432x288 with 1 Axes>"
            ]
          },
          "metadata": {
            "tags": []
          }
        },
        {
          "output_type": "display_data",
          "data": {
            "image/png": "[encoded data removed]",
            "text/plain": [
              "<Figure size 432x288 with 1 Axes>"
            ]
          },
          "metadata": {
            "tags": []
          }
        }
      ]
    },
    {
      "metadata": {
        "id": "ojnpqrH6UoSq",
        "colab_type": "text"
      },
      "cell_type": "markdown",
      "source": [
        " **observation**\n",
        "\n",
        "\n",
        "\n",
        "1.   Both my w are almost similar i.e im getting my w vector almost similar tin my implemented SGD and Linear Regression.\n",
        "2.   And also my both y-intercepts are also almost same.\n",
        "4.From these results i can say that sklearn.LinearRegression() implemnts SGD to find my best W, b\n",
        " to fit the best line for the given data.\n"
      ]
    },
    {
      "metadata": {
        "id": "Z_uwx4z0--0P",
        "colab_type": "code",
        "colab": {
          "base_uri": "https://localhost:8080/",
          "height": 323
        },
        "outputId": "ebced457-1d56-440c-8e86-12251d2e29dc"
      },
      "cell_type": "code",
      "source": [
        "# pretty table http://zetcode.com/python/prettytable/\n",
        "from prettytable import PrettyTable\n",
        "x = PrettyTable()\n",
        "print(\"\\t\\tComparing W's\")\n",
        "x.field_names = [\"w of implemented SGD\",\"w of sklearn SGD\"]\n",
        "ele=0;\n",
        "while(ele<13):\n",
        "    x.add_row([params[-1][ele][0],[[clf.coef_[ele]]]])\n",
        "    ele=ele+1;\n",
        "print(x)"
      ],
      "execution_count": 30,
      "outputs": [
        {
          "output_type": "stream",
          "text": [
            "\t\tComparing W's\n",
            "+----------------------+---------------------------+\n",
            "| w of implemented SGD |      w of sklearn SGD     |\n",
            "+----------------------+---------------------------+\n",
            "|   [[-0.48770419]]    |  [[-0.9341411262692196]]  |\n",
            "|    [[0.23806568]]    |   [[0.869858008213496]]   |\n",
            "|   [[-0.21880318]]    |   [[0.5199661692999241]]  |\n",
            "|    [[0.89118377]]    |   [[0.6502811174307473]]  |\n",
            "|   [[-0.34196677]]    |   [[-2.400484545929108]]  |\n",
            "|    [[2.93263604]]    |   [[2.779830851093292]]   |\n",
            "|    [[0.04461172]]    | [[-0.059732909913560964]] |\n",
            "|   [[-1.11735731]]    |   [[-2.904778105306144]]  |\n",
            "|   [[-0.23660887]]    |   [[2.6900615538949424]]  |\n",
            "|   [[-0.50260475]]    |  [[-2.0851273871712284]]  |\n",
            "|   [[-1.00582152]]    |  [[-2.2271353495486634]]  |\n",
            "|    [[0.90476494]]    |   [[0.8682494362104586]]  |\n",
            "|   [[-3.14311614]]    |  [[-3.5606898636966102]]  |\n",
            "+----------------------+---------------------------+\n"
          ],
          "name": "stdout"
        }
      ]
    },
    {
      "metadata": {
        "id": "eTyBVoppKQGU",
        "colab_type": "code",
        "colab": {
          "base_uri": "https://localhost:8080/",
          "height": 102
        },
        "outputId": "ac919e2f-702d-47ba-d3ea-ef078ac72686"
      },
      "cell_type": "code",
      "source": [
        "# pretty table http://zetcode.com/python/prettytable/\n",
        "from sklearn.metrics import mean_squared_error\n",
        "from prettytable import PrettyTable\n",
        "x = PrettyTable()\n",
        "x.field_names = [\"MSE of SGDRegressor\",\"MSE OF Implemented SGD\"]\n",
        "x.add_row([mean_squared_error(y_test, y_pred),mean_squared_error(y_test,(np.dot(np.asmatrix(x_test), params[-1]) + b))])\n",
        "print(x)"
      ],
      "execution_count": 31,
      "outputs": [
        {
          "output_type": "stream",
          "text": [
            "+---------------------+------------------------+\n",
            "| MSE of SGDRegressor | MSE OF Implemented SGD |\n",
            "+---------------------+------------------------+\n",
            "|  22.07477638853445  |   27.800804001749697   |\n",
            "+---------------------+------------------------+\n"
          ],
          "name": "stdout"
        }
      ]
    },
    {
      "metadata": {
        "id": "jX-u03_-Leti",
        "colab_type": "text"
      },
      "cell_type": "markdown",
      "source": [
        "<h2>1.6 Plotting PDF for errors of our implemented SGD</h2>"
      ]
    },
    {
      "metadata": {
        "id": "TM37qhQkSIAp",
        "colab_type": "code",
        "colab": {}
      },
      "cell_type": "code",
      "source": [
        "Y_pred_imp=(np.dot(np.asmatrix(x_test), params[-1]) + b)\n",
        "y_test=np.asarray(y_test)"
      ],
      "execution_count": 0,
      "outputs": []
    },
    {
      "metadata": {
        "id": "TvXP5516OKT7",
        "colab_type": "code",
        "colab": {}
      },
      "cell_type": "code",
      "source": [
        "i=0;\n",
        "diff1=[]\n",
        "diff2=[]\n",
        "while(i<152):\n",
        "  diff1.append(float(y_test[i])-float(Y_pred_imp[i]))\n",
        "  diff2.append(float(y_test[i]-float(y_pred[i])))\n",
        "  i=i+1"
      ],
      "execution_count": 0,
      "outputs": []
    },
    {
      "metadata": {
        "id": "0YBL9B6LLyZg",
        "colab_type": "code",
        "colab": {
          "base_uri": "https://localhost:8080/",
          "height": 295
        },
        "outputId": "14c83be3-2d84-4e43-8ee5-2368b4f61e4a"
      },
      "cell_type": "code",
      "source": [
        "import statistics\n",
        "#I'm making use of this code from our sample example\n",
        "import seaborn as sns;\n",
        "import numpy as np;\n",
        "sns.set_style('whitegrid')\n",
        "sns.kdeplot(np.array(diff1), bw=0.5,label='Implemented SGD Error')\n",
        "sns.kdeplot(np.array(diff2), bw=0.5,label='SKlearn LinearRegression() Error')\n",
        "plt.xlabel(\"Errors\")\n",
        "plt.ylabel(\"density\")\n",
        "plt.legend()\n",
        "plt.title(\"PDF FOR ERRORS\")\n",
        "plt.show()"
      ],
      "execution_count": 48,
      "outputs": [
        {
          "output_type": "display_data",
          "data": {
            "image/png": "[encoded data removed]",
            "text/plain": [
              "<Figure size 432x288 with 1 Axes>"
            ]
          },
          "metadata": {
            "tags": []
          }
        }
      ]
    },
    {
      "metadata": {
        "id": "1oJaxbs8UaRn",
        "colab_type": "text"
      },
      "cell_type": "markdown",
      "source": [
        "<h3>Observation:</h3>\n",
        "\n",
        "\n",
        "1.   we are very much close to our actuall linearregrassion model whish we can see in the above pdf\n",
        "2.   From the above plot we can say that a lot our errors are concentrated around Zero.\n"
      ]
    },
    {
      "metadata": {
        "id": "LcpApSUQU-pI",
        "colab_type": "text"
      },
      "cell_type": "markdown",
      "source": [
        "<h2>Final Observations:</h2>\n",
        "\n",
        "\n",
        "1.   From the above plot we can say that a lot our errors are concentrated around Zero.\n",
        "2.   any measure of central tendancy could be some where around zero.\n",
        "3.   we are very much close to our actuall linearregrassion model whish we can see in the above pdf.\n",
        "4.  measure of central tendancy mean for errors of our implemnted sgd is very much close mean for errors of LinearRegression() \n",
        "5.  measure of central tendancy median for errors of our implemnted sgd is also close to median for errors of LinearRegression()"
      ]
    }
  ]
}